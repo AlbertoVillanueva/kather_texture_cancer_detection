{
 "cells": [
  {
   "cell_type": "code",
   "execution_count": 1,
   "metadata": {},
   "outputs": [],
   "source": [
    "import pandas as pd\n",
    "import os\n",
    "from sklearn.model_selection import train_test_split"
   ]
  },
  {
   "cell_type": "code",
   "execution_count": 2,
   "metadata": {},
   "outputs": [],
   "source": [
    "folder = 'Kather_texture_2016_image_tiles_5000'\n",
    "dfs = []\n",
    "for tag in os.listdir(folder):\n",
    "    files = os.listdir(os.path.join(folder,tag))\n",
    "    dfs.append(pd.DataFrame(map(lambda x: [os.path.join(folder,tag,x),tag],files),columns=[\"path\",\"category\"]))\n",
    "df = pd.concat(dfs)"
   ]
  },
  {
   "cell_type": "code",
   "execution_count": 3,
   "metadata": {},
   "outputs": [
    {
     "data": {
      "text/html": [
       "<div>\n",
       "<style scoped>\n",
       "    .dataframe tbody tr th:only-of-type {\n",
       "        vertical-align: middle;\n",
       "    }\n",
       "\n",
       "    .dataframe tbody tr th {\n",
       "        vertical-align: top;\n",
       "    }\n",
       "\n",
       "    .dataframe thead th {\n",
       "        text-align: right;\n",
       "    }\n",
       "</style>\n",
       "<table border=\"1\" class=\"dataframe\">\n",
       "  <thead>\n",
       "    <tr style=\"text-align: right;\">\n",
       "      <th></th>\n",
       "      <th>path</th>\n",
       "      <th>category</th>\n",
       "    </tr>\n",
       "  </thead>\n",
       "  <tbody>\n",
       "    <tr>\n",
       "      <th>519</th>\n",
       "      <td>Kather_texture_2016_image_tiles_5000/02_STROMA...</td>\n",
       "      <td>02_STROMA</td>\n",
       "    </tr>\n",
       "    <tr>\n",
       "      <th>230</th>\n",
       "      <td>Kather_texture_2016_image_tiles_5000/04_LYMPHO...</td>\n",
       "      <td>04_LYMPHO</td>\n",
       "    </tr>\n",
       "    <tr>\n",
       "      <th>269</th>\n",
       "      <td>Kather_texture_2016_image_tiles_5000/02_STROMA...</td>\n",
       "      <td>02_STROMA</td>\n",
       "    </tr>\n",
       "    <tr>\n",
       "      <th>498</th>\n",
       "      <td>Kather_texture_2016_image_tiles_5000/04_LYMPHO...</td>\n",
       "      <td>04_LYMPHO</td>\n",
       "    </tr>\n",
       "    <tr>\n",
       "      <th>343</th>\n",
       "      <td>Kather_texture_2016_image_tiles_5000/07_ADIPOS...</td>\n",
       "      <td>07_ADIPOSE</td>\n",
       "    </tr>\n",
       "    <tr>\n",
       "      <th>301</th>\n",
       "      <td>Kather_texture_2016_image_tiles_5000/06_MUCOSA...</td>\n",
       "      <td>06_MUCOSA</td>\n",
       "    </tr>\n",
       "    <tr>\n",
       "      <th>203</th>\n",
       "      <td>Kather_texture_2016_image_tiles_5000/06_MUCOSA...</td>\n",
       "      <td>06_MUCOSA</td>\n",
       "    </tr>\n",
       "    <tr>\n",
       "      <th>414</th>\n",
       "      <td>Kather_texture_2016_image_tiles_5000/08_EMPTY/...</td>\n",
       "      <td>08_EMPTY</td>\n",
       "    </tr>\n",
       "    <tr>\n",
       "      <th>467</th>\n",
       "      <td>Kather_texture_2016_image_tiles_5000/03_COMPLE...</td>\n",
       "      <td>03_COMPLEX</td>\n",
       "    </tr>\n",
       "    <tr>\n",
       "      <th>533</th>\n",
       "      <td>Kather_texture_2016_image_tiles_5000/05_DEBRIS...</td>\n",
       "      <td>05_DEBRIS</td>\n",
       "    </tr>\n",
       "  </tbody>\n",
       "</table>\n",
       "</div>"
      ],
      "text/plain": [
       "                                                  path    category\n",
       "519  Kather_texture_2016_image_tiles_5000/02_STROMA...   02_STROMA\n",
       "230  Kather_texture_2016_image_tiles_5000/04_LYMPHO...   04_LYMPHO\n",
       "269  Kather_texture_2016_image_tiles_5000/02_STROMA...   02_STROMA\n",
       "498  Kather_texture_2016_image_tiles_5000/04_LYMPHO...   04_LYMPHO\n",
       "343  Kather_texture_2016_image_tiles_5000/07_ADIPOS...  07_ADIPOSE\n",
       "301  Kather_texture_2016_image_tiles_5000/06_MUCOSA...   06_MUCOSA\n",
       "203  Kather_texture_2016_image_tiles_5000/06_MUCOSA...   06_MUCOSA\n",
       "414  Kather_texture_2016_image_tiles_5000/08_EMPTY/...    08_EMPTY\n",
       "467  Kather_texture_2016_image_tiles_5000/03_COMPLE...  03_COMPLEX\n",
       "533  Kather_texture_2016_image_tiles_5000/05_DEBRIS...   05_DEBRIS"
      ]
     },
     "execution_count": 3,
     "metadata": {},
     "output_type": "execute_result"
    }
   ],
   "source": [
    "df.sample(10)"
   ]
  },
  {
   "cell_type": "code",
   "execution_count": 4,
   "metadata": {},
   "outputs": [],
   "source": [
    "train_df, val_df = train_test_split(df, test_size=0.1, stratify=df['category'])"
   ]
  },
  {
   "cell_type": "code",
   "execution_count": 5,
   "metadata": {},
   "outputs": [
    {
     "data": {
      "text/plain": [
       "[<AxesSubplot:>, <AxesSubplot:>]"
      ]
     },
     "execution_count": 5,
     "metadata": {},
     "output_type": "execute_result"
    },
    {
     "data": {
      "image/png": "[encoded data removed]",
      "text/plain": [
       "<Figure size 720x360 with 1 Axes>"
      ]
     },
     "metadata": {
      "needs_background": "light"
     },
     "output_type": "display_data"
    }
   ],
   "source": [
    "[train_df['category'].hist(),val_df['category'].hist(figsize=(10,5))]"
   ]
  },
  {
   "cell_type": "code",
   "execution_count": 6,
   "metadata": {},
   "outputs": [],
   "source": [
    "df['train'] = df['path'].map(lambda x: x in train_df[\"path\"].values)"
   ]
  },
  {
   "cell_type": "code",
   "execution_count": 7,
   "metadata": {},
   "outputs": [],
   "source": [
    "df.to_csv(\"train.csv\",index=False)"
   ]
  },
  {
   "cell_type": "code",
   "execution_count": null,
   "metadata": {},
   "outputs": [],
   "source": []
  }
 ],
 "metadata": {
  "kernelspec": {
   "display_name": "Python 3",
   "language": "python",
   "name": "python3"
  },
  "language_info": {
   "codemirror_mode": {
    "name": "ipython",
    "version": 3
   },
   "file_extension": ".py",
   "mimetype": "text/x-python",
   "name": "python",
   "nbconvert_exporter": "python",
   "pygments_lexer": "ipython3",
   "version": "3.8.5"
  }
 },
 "nbformat": 4,
 "nbformat_minor": 4
}
